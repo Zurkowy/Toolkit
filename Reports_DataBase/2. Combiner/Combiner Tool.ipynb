{
 "cells": [
  {
   "cell_type": "code",
   "execution_count": null,
   "metadata": {},
   "outputs": [],
   "source": [
    "import os\n",
    "import pandas as pd\n",
    "import numpy as np"
   ]
  },
  {
   "cell_type": "code",
   "execution_count": null,
   "metadata": {},
   "outputs": [],
   "source": [
    "path = os.getcwd()\n",
    "files = os.listdir(path)\n",
    "files_xlsx = [file for file in files if file[-5::] == \".xlsx\"]"
   ]
  },
  {
   "cell_type": "code",
   "execution_count": null,
   "metadata": {},
   "outputs": [],
   "source": [
    "df_final = pd.DataFrame()\n",
    "\n",
    "for xlsx_file in files_xlsx:\n",
    "\n",
    "    data = pd.read_excel(xlsx_file)\n",
    "        \n",
    "    for sheet in data.sheet_names:\n",
    "        sheet = pd.read_excel(xlsx_file, sheet_name = sheet)\n",
    "        ID = sheet.at[0,\"ID\"]\n",
    "        sheet = sheet[[\"Data_Type\", \"Results\"]]\n",
    "        sheet = sheet.transpose()\n",
    "        sheet.insert(0, \"ID\", [\"ID\", ID], False)\n",
    "        sheet.reset_index(drop=True)\n",
    "        sheet.columns = sheet.iloc[0]\n",
    "        sheet = sheet.drop(sheet.index[0])\n",
    "        df_final = df_final.append(sheet, ignore_index=True, sort=False)\n",
    "        \n",
    "writer = pd.ExcelWriter(\"Reports_All.xlsx\")\n",
    "df_final.to_excel(writer, index = False, na_rep='NaN')\n",
    "writer.save()\n",
    "writer.close()"
   ]
  },
  {
   "cell_type": "code",
   "execution_count": null,
   "metadata": {},
   "outputs": [],
   "source": []
  },
  {
   "cell_type": "code",
   "execution_count": null,
   "metadata": {},
   "outputs": [],
   "source": []
  },
  {
   "cell_type": "code",
   "execution_count": null,
   "metadata": {},
   "outputs": [],
   "source": []
  }
 ],
 "metadata": {
  "kernelspec": {
   "display_name": "Python 3",
   "language": "python",
   "name": "python3"
  },
  "language_info": {
   "codemirror_mode": {
    "name": "ipython",
    "version": 3
   },
   "file_extension": ".py",
   "mimetype": "text/x-python",
   "name": "python",
   "nbconvert_exporter": "python",
   "pygments_lexer": "ipython3",
   "version": "3.8.5"
  }
 },
 "nbformat": 4,
 "nbformat_minor": 5
}
