{
 "cells": [
  {
   "cell_type": "code",
   "execution_count": 1,
   "id": "9d07c255",
   "metadata": {},
   "outputs": [],
   "source": [
    "import os\n",
    "import pandas as pd\n",
    "import numpy as np"
   ]
  },
  {
   "cell_type": "code",
   "execution_count": 2,
   "id": "b2279b15",
   "metadata": {},
   "outputs": [],
   "source": [
    "path = os.getcwd()\n",
    "files = os.listdir(path)\n",
    "files_xlsx = [file for file in files if file[-5::] == \".xlsx\"]"
   ]
  },
  {
   "cell_type": "code",
   "execution_count": 3,
   "id": "6fba0a10",
   "metadata": {},
   "outputs": [
    {
     "name": "stderr",
     "output_type": "stream",
     "text": [
      "C:\\ProgramData\\Anaconda3\\lib\\site-packages\\xlsxwriter\\workbook.py:336: UserWarning: Calling close() on already closed file.\n",
      "  warn(\"Calling close() on already closed file.\")\n"
     ]
    }
   ],
   "source": [
    "df_final = pd.DataFrame()\n",
    "\n",
    "for xlsx_file in files_xlsx:\n",
    "    \n",
    "    with pd.ExcelFile(xlsx_file) as file:\n",
    "        data = pd.ExcelFile(xlsx_file)\n",
    "        \n",
    "    for sheet in data.sheet_names:\n",
    "        sheet = pd.read_excel(xlsx_file, sheet_name = sheet)\n",
    "        job_id = sheet.at[0,\"Job_id\"]\n",
    "        sheet = sheet[[\"Measures\", \"VnTest Ad1Vb\"]]\n",
    "        sheet = sheet.transpose()\n",
    "        sheet.insert(0, \"Job_id\", [\"Job_id\", job_id], False)\n",
    "        sheet.reset_index(drop=True)\n",
    "        sheet.columns = sheet.iloc[0]\n",
    "        sheet = sheet.drop(sheet.index[0])\n",
    "        df_final = df_final.append(sheet, ignore_index=True, sort=False)\n",
    "\n",
    "data.close()        \n",
    "writer = pd.ExcelWriter(\"Norms_Merged.xlsx\")\n",
    "df_final.to_excel(writer, index = False, na_rep='NaN')\n",
    "writer.save()\n",
    "writer.close()"
   ]
  },
  {
   "cell_type": "code",
   "execution_count": null,
   "id": "0daf4806",
   "metadata": {},
   "outputs": [],
   "source": [
    "for xlsx_file in files_xlsx:\n",
    "    with pd.ExcelFile(xlsx_file) as file:\n",
    "        data = pd.ExcelFile(xlsx_file)\n",
    "    for sheet in data.sheet_names:\n",
    "        df = df.append(data.parse(sheet))\n",
    "    data.close()"
   ]
  },
  {
   "cell_type": "code",
   "execution_count": 103,
   "id": "6ac97e8e",
   "metadata": {},
   "outputs": [],
   "source": [
    "job_id = sheet1.at[0,\"Job_id\"]\n",
    "sheet1 = sheet1[[\"Measures\", \"VnTest Ad1Vb\"]]\n",
    "sheet1 = sheet1.transpose()\n",
    "sheet1.insert(0, \"Job_id\", [\"Job_id\", job_id], False)\n",
    "sheet1.reset_index(drop=True)\n",
    "sheet1.columns = sheet1.iloc[0]\n",
    "sheet1 = sheet1.drop(sheet1.index[0])"
   ]
  },
  {
   "cell_type": "code",
   "execution_count": 4,
   "id": "b32425b7",
   "metadata": {},
   "outputs": [],
   "source": []
  },
  {
   "cell_type": "code",
   "execution_count": null,
   "id": "aed551a8",
   "metadata": {},
   "outputs": [],
   "source": []
  }
 ],
 "metadata": {
  "kernelspec": {
   "display_name": "Python 3",
   "language": "python",
   "name": "python3"
  },
  "language_info": {
   "codemirror_mode": {
    "name": "ipython",
    "version": 3
   },
   "file_extension": ".py",
   "mimetype": "text/x-python",
   "name": "python",
   "nbconvert_exporter": "python",
   "pygments_lexer": "ipython3",
   "version": "3.8.8"
  }
 },
 "nbformat": 4,
 "nbformat_minor": 5
}
